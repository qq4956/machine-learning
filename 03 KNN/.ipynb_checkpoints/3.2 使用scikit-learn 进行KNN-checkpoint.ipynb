{
 "cells": [
  {
   "cell_type": "code",
   "execution_count": 5,
   "metadata": {
    "collapsed": true
   },
   "outputs": [],
   "source": [
    "import numpy as np\n",
    "import matplotlib.pyplot as plt\n",
    "from sklearn.neighbors import KNeighborsClassifier"
   ]
  },
  {
   "cell_type": "code",
   "execution_count": 62,
   "metadata": {
    "collapsed": true
   },
   "outputs": [],
   "source": [
    "raw_data_X = [[3.3935, 2.3312],\n",
    "              [3.1100, 1.7815],\n",
    "              [1.3438, 3.3683],\n",
    "              [3.5822, 4.6791],\n",
    "              [2.2803, 2.8669],\n",
    "              [7.4234, 4.6965],\n",
    "              [5.7450, 3.5339],\n",
    "              [9.1721, 2.5111],\n",
    "              [7.7927, 3.4240],\n",
    "              [7.9398, 0.7791]]\n",
    "raw_data_y = [0, 0, 0, 0, 0, 1, 1, 1, 1, 1]\n",
    "x = np.array([8.093,3.365])"
   ]
  },
  {
   "cell_type": "code",
   "execution_count": 4,
   "metadata": {
    "collapsed": true
   },
   "outputs": [],
   "source": [
    "X_train = np.array(raw_data_X)\n",
    "y_train = np.array(raw_data_y)"
   ]
  },
  {
   "cell_type": "code",
   "execution_count": 6,
   "metadata": {
    "collapsed": true
   },
   "outputs": [],
   "source": [
    "KNN_classifier = KNeighborsClassifier(n_neighbors= 6)"
   ]
  },
  {
   "cell_type": "code",
   "execution_count": 8,
   "metadata": {},
   "outputs": [
    {
     "data": {
      "text/plain": [
       "KNeighborsClassifier(algorithm='auto', leaf_size=30, metric='minkowski',\n",
       "           metric_params=None, n_jobs=1, n_neighbors=6, p=2,\n",
       "           weights='uniform')"
      ]
     },
     "execution_count": 8,
     "metadata": {},
     "output_type": "execute_result"
    }
   ],
   "source": [
    "KNN_classifier.fit(X_train,y_train)\n",
    "#返回值就是对象自身."
   ]
  },
  {
   "cell_type": "code",
   "execution_count": 17,
   "metadata": {},
   "outputs": [
    {
     "data": {
      "text/plain": [
       "array([1])"
      ]
     },
     "execution_count": 17,
     "metadata": {},
     "output_type": "execute_result"
    }
   ],
   "source": [
    "KNN_classifier.predict(x.reshape(1,-1))\n",
    "#x是一个矩阵."
   ]
  },
  {
   "cell_type": "code",
   "execution_count": null,
   "metadata": {
    "collapsed": true
   },
   "outputs": [],
   "source": []
  },
  {
   "cell_type": "markdown",
   "metadata": {},
   "source": [
    "### 采用scikit learn的形式封装算法"
   ]
  },
  {
   "cell_type": "markdown",
   "metadata": {},
   "source": [
    "要点\n",
    "1. fit是把传入的数据,封装进KNNclassfier自身的属性\n",
    "2. 在predict里,将数组拆分为单个元素,然后取近距离的元素,进行投票."
   ]
  },
  {
   "cell_type": "code",
   "execution_count": 82,
   "metadata": {
    "collapsed": true
   },
   "outputs": [],
   "source": [
    "class KNNClassifier:\n",
    "    def __init__(self,k):\n",
    "        '初始化KNN分类器'\n",
    "        assert k>=1, 'k must be valid'\n",
    "        #如果不满足 K>=1 则抛出断言.\n",
    "        self.k = k\n",
    "        self._X_train = None\n",
    "        #_X_train,__X_train都表示,训练数据集不能被外部随意的访问.\n",
    "        self._y_train = None\n",
    "    \n",
    "    def fit(self,X_train,y_train):\n",
    "        \"根据训练集,训练分类器\"\n",
    "        \n",
    "        assert X_train.shape[0] == y_train.shape[0],\\\n",
    "        'X 和y的行数需要对应'\n",
    "        assert X_train.shape[0] >= self.k ,\\\n",
    "        '样本数量必须大于k'\n",
    "        \n",
    "        self._X_train = X_train\n",
    "        self._y_train = y_train\n",
    "        return self\n",
    "    #返回该实例的本身\n",
    "    \n",
    "    def predict(self,X_predict):\n",
    "        #给数据集传入待分析的点. 必须传入矩阵\n",
    "        assert self._X_train is not None and  self._y_train is  not None ,\\\n",
    "        '必须先fit再进行预测'\n",
    "        assert self._X_train.shape[1] == X_predict.shape[1],\\\n",
    "        '传入的样本的feature必须与训练集相同'\n",
    "        \n",
    "        y_perdict = [self._predict(x) for x in X_predict ]\n",
    "        return np.array(y_perdict)\n",
    "        \n",
    "    def _predict(self,x):\n",
    "        #给单个x返回预测的结果\n",
    "        assert x.shape[0] == self._X_train.shape[1],\\\n",
    "        'x的值与样本的fearture不同'\n",
    "        distances = []\n",
    "        for x_train in self._X_train:\n",
    "            d = np.sqrt(np.sum((x_train - x)**2))\n",
    "            distances.append(d)\n",
    "        nearest = np.argsort(distances)\n",
    "        topK_y = [self._y_train[i] for i in nearest[:self.k]]\n",
    "        from collections import Counter\n",
    "        votes = Counter(topK_y)\n",
    "        \n",
    "        return votes.most_common(1)[0][0]\n",
    "        \n",
    "    def __repr__(self):\n",
    "        return 'KNN(k = %d)' %self.k\n",
    "        \n",
    "    "
   ]
  },
  {
   "cell_type": "code",
   "execution_count": 83,
   "metadata": {
    "collapsed": true
   },
   "outputs": [],
   "source": [
    "knn_clf = KNNClassifier(k =6)"
   ]
  },
  {
   "cell_type": "code",
   "execution_count": 84,
   "metadata": {},
   "outputs": [
    {
     "data": {
      "text/plain": [
       "KNN(k = 6)"
      ]
     },
     "execution_count": 84,
     "metadata": {},
     "output_type": "execute_result"
    }
   ],
   "source": [
    "knn_clf.fit(X_train,y_train)"
   ]
  },
  {
   "cell_type": "code",
   "execution_count": 85,
   "metadata": {},
   "outputs": [
    {
     "data": {
      "text/plain": [
       "array([1])"
      ]
     },
     "execution_count": 85,
     "metadata": {},
     "output_type": "execute_result"
    }
   ],
   "source": [
    "knn_clf.predict(x.reshape(1,-1))"
   ]
  },
  {
   "cell_type": "code",
   "execution_count": null,
   "metadata": {
    "collapsed": true
   },
   "outputs": [],
   "source": []
  }
 ],
 "metadata": {
  "kernelspec": {
   "display_name": "Python 3",
   "language": "python",
   "name": "python3"
  },
  "language_info": {
   "codemirror_mode": {
    "name": "ipython",
    "version": 3
   },
   "file_extension": ".py",
   "mimetype": "text/x-python",
   "name": "python",
   "nbconvert_exporter": "python",
   "pygments_lexer": "ipython3",
   "version": "3.6.3"
  }
 },
 "nbformat": 4,
 "nbformat_minor": 2
}
