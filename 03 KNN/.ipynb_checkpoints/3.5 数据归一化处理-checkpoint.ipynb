{
 "cells": [
  {
   "cell_type": "markdown",
   "metadata": {},
   "source": [
    "### 为什么要进行数据归一化\n",
    "\n",
    "1. "
   ]
  },
  {
   "cell_type": "code",
   "execution_count": 3,
   "metadata": {
    "collapsed": true
   },
   "outputs": [],
   "source": [
    "import numpy as np\n",
    "import matplotlib.pyplot as plt"
   ]
  },
  {
   "cell_type": "markdown",
   "metadata": {},
   "source": [
    "### 最值归一化"
   ]
  },
  {
   "cell_type": "code",
   "execution_count": 6,
   "metadata": {},
   "outputs": [
    {
     "data": {
      "text/plain": [
       "array([71, 48, 20, 92, 27, 85, 64, 18, 63, 27, 10, 61, 62, 94, 30, 50, 76,\n",
       "        3, 26, 16, 50, 62, 17, 20, 99, 62, 95, 54, 28, 37, 89, 71, 25, 93,\n",
       "       29, 17, 73, 17, 56, 86, 81, 10, 96, 26, 18, 57, 89, 19, 52, 16, 12,\n",
       "        1, 50,  8, 41, 32, 75, 65, 35, 42, 95, 30, 38, 71, 69, 85, 94, 89,\n",
       "       18, 81, 68, 84, 26, 90, 74, 50, 45, 65, 34, 32, 96, 50, 69, 79, 43,\n",
       "       54, 26, 87, 67, 55, 11, 46,  1, 77, 40, 51, 24, 72, 24, 18])"
      ]
     },
     "execution_count": 6,
     "metadata": {},
     "output_type": "execute_result"
    }
   ],
   "source": [
    "x = np.random.randint(1,100,100)\n",
    "x"
   ]
  },
  {
   "cell_type": "code",
   "execution_count": 8,
   "metadata": {},
   "outputs": [
    {
     "data": {
      "text/plain": [
       "array([ 0.71428571,  0.47959184,  0.19387755,  0.92857143,  0.26530612,\n",
       "        0.85714286,  0.64285714,  0.17346939,  0.63265306,  0.26530612,\n",
       "        0.09183673,  0.6122449 ,  0.62244898,  0.94897959,  0.29591837,\n",
       "        0.5       ,  0.76530612,  0.02040816,  0.25510204,  0.15306122,\n",
       "        0.5       ,  0.62244898,  0.16326531,  0.19387755,  1.        ,\n",
       "        0.62244898,  0.95918367,  0.54081633,  0.2755102 ,  0.36734694,\n",
       "        0.89795918,  0.71428571,  0.24489796,  0.93877551,  0.28571429,\n",
       "        0.16326531,  0.73469388,  0.16326531,  0.56122449,  0.86734694,\n",
       "        0.81632653,  0.09183673,  0.96938776,  0.25510204,  0.17346939,\n",
       "        0.57142857,  0.89795918,  0.18367347,  0.52040816,  0.15306122,\n",
       "        0.1122449 ,  0.        ,  0.5       ,  0.07142857,  0.40816327,\n",
       "        0.31632653,  0.75510204,  0.65306122,  0.34693878,  0.41836735,\n",
       "        0.95918367,  0.29591837,  0.37755102,  0.71428571,  0.69387755,\n",
       "        0.85714286,  0.94897959,  0.89795918,  0.17346939,  0.81632653,\n",
       "        0.68367347,  0.84693878,  0.25510204,  0.90816327,  0.74489796,\n",
       "        0.5       ,  0.44897959,  0.65306122,  0.33673469,  0.31632653,\n",
       "        0.96938776,  0.5       ,  0.69387755,  0.79591837,  0.42857143,\n",
       "        0.54081633,  0.25510204,  0.87755102,  0.67346939,  0.55102041,\n",
       "        0.10204082,  0.45918367,  0.        ,  0.7755102 ,  0.39795918,\n",
       "        0.51020408,  0.23469388,  0.7244898 ,  0.23469388,  0.17346939])"
      ]
     },
     "execution_count": 8,
     "metadata": {},
     "output_type": "execute_result"
    }
   ],
   "source": [
    "(x - min(x))/(max(x) - min(x))"
   ]
  },
  {
   "cell_type": "code",
   "execution_count": 9,
   "metadata": {
    "collapsed": true
   },
   "outputs": [],
   "source": [
    "X = np.random.randint(0,100,(50,2))"
   ]
  },
  {
   "cell_type": "code",
   "execution_count": 13,
   "metadata": {
    "collapsed": true
   },
   "outputs": [],
   "source": [
    "#转换为浮点类型\n",
    "X = np.array(X ,dtype = float)"
   ]
  },
  {
   "cell_type": "code",
   "execution_count": 22,
   "metadata": {
    "collapsed": true
   },
   "outputs": [],
   "source": [
    "#在列的方向上进行归一化\n",
    "X[:,0] = (X[:,0] - np.min(X[:,0] )) /((np.max(X[:,0])- np.min(X[:,0])))"
   ]
  },
  {
   "cell_type": "code",
   "execution_count": 21,
   "metadata": {
    "collapsed": true
   },
   "outputs": [],
   "source": [
    "X[:,1] = (X[:,1] - np.min(X[:,1] )) /((np.max(X[:,1])- np.min(X[:,1])))"
   ]
  },
  {
   "cell_type": "code",
   "execution_count": 23,
   "metadata": {},
   "outputs": [
    {
     "data": {
      "text/plain": [
       "array([[ 0.54545455,  0.35353535],\n",
       "       [ 0.63636364,  0.12121212],\n",
       "       [ 0.        ,  0.26262626],\n",
       "       [ 0.15151515,  0.21212121],\n",
       "       [ 0.65656566,  0.03030303],\n",
       "       [ 0.66666667,  0.02020202],\n",
       "       [ 0.15151515,  0.22222222],\n",
       "       [ 0.05050505,  0.57575758],\n",
       "       [ 0.8989899 ,  0.50505051],\n",
       "       [ 0.13131313,  0.50505051]])"
      ]
     },
     "execution_count": 23,
     "metadata": {},
     "output_type": "execute_result"
    }
   ],
   "source": [
    "X[:10]"
   ]
  },
  {
   "cell_type": "code",
   "execution_count": 26,
   "metadata": {},
   "outputs": [
    {
     "data": {
      "image/png": "[encoded data removed]",
      "text/plain": [
       "<matplotlib.figure.Figure at 0x109c47a90>"
      ]
     },
     "metadata": {},
     "output_type": "display_data"
    }
   ],
   "source": [
    "plt.scatter(X[:,0],X[:,1])\n",
    "plt.show()"
   ]
  },
  {
   "cell_type": "markdown",
   "metadata": {},
   "source": [
    "### 均值方差归一化 :不会产生有偏数据"
   ]
  },
  {
   "cell_type": "code",
   "execution_count": 31,
   "metadata": {
    "collapsed": true
   },
   "outputs": [],
   "source": [
    "X2 = np.random.randint(0,100,(50,2))\n",
    "X2 = np.array(X2, dtype = float)"
   ]
  },
  {
   "cell_type": "code",
   "execution_count": 34,
   "metadata": {
    "collapsed": true
   },
   "outputs": [],
   "source": [
    "X2[:,0] = (X2[:,0] - np.mean(X2[:,0] )) / np.std(X2[:,0])\n",
    "X2[:,1] = (X2[:,1] - np.mean(X2[:,1] )) / np.std(X2[:,1])"
   ]
  },
  {
   "cell_type": "code",
   "execution_count": 35,
   "metadata": {},
   "outputs": [
    {
     "data": {
      "image/png": "[encoded data removed]",
      "text/plain": [
       "<matplotlib.figure.Figure at 0x109b4ab38>"
      ]
     },
     "metadata": {},
     "output_type": "display_data"
    }
   ],
   "source": [
    "plt.scatter(X2[:,0],X2[:,1])\n",
    "plt.show()\n",
    "#均值方差归一化并不在0~1之间"
   ]
  },
  {
   "cell_type": "code",
   "execution_count": 37,
   "metadata": {},
   "outputs": [
    {
     "data": {
      "text/plain": [
       "2.6645352591003756e-17"
      ]
     },
     "execution_count": 37,
     "metadata": {},
     "output_type": "execute_result"
    }
   ],
   "source": [
    "np.mean(X2[:,0])"
   ]
  },
  {
   "cell_type": "code",
   "execution_count": 38,
   "metadata": {},
   "outputs": [
    {
     "data": {
      "text/plain": [
       "1.0"
      ]
     },
     "execution_count": 38,
     "metadata": {},
     "output_type": "execute_result"
    }
   ],
   "source": [
    "np.std(X2[:,0])"
   ]
  },
  {
   "cell_type": "code",
   "execution_count": 39,
   "metadata": {},
   "outputs": [
    {
     "data": {
      "text/plain": [
       "6.661338147750939e-18"
      ]
     },
     "execution_count": 39,
     "metadata": {},
     "output_type": "execute_result"
    }
   ],
   "source": [
    "np.mean(X2[:,1])"
   ]
  },
  {
   "cell_type": "code",
   "execution_count": 40,
   "metadata": {},
   "outputs": [
    {
     "data": {
      "text/plain": [
       "1.0"
      ]
     },
     "execution_count": 40,
     "metadata": {},
     "output_type": "execute_result"
    }
   ],
   "source": [
    "np.std(X2[:,1])"
   ]
  },
  {
   "cell_type": "code",
   "execution_count": null,
   "metadata": {
    "collapsed": true
   },
   "outputs": [],
   "source": []
  }
 ],
 "metadata": {
  "kernelspec": {
   "display_name": "Python 3",
   "language": "python",
   "name": "python3"
  },
  "language_info": {
   "codemirror_mode": {
    "name": "ipython",
    "version": 3
   },
   "file_extension": ".py",
   "mimetype": "text/x-python",
   "name": "python",
   "nbconvert_exporter": "python",
   "pygments_lexer": "ipython3",
   "version": "3.6.3"
  }
 },
 "nbformat": 4,
 "nbformat_minor": 2
}
