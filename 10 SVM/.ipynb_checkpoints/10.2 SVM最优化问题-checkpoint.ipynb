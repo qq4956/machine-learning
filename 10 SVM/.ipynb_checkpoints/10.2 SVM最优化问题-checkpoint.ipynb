{
 "cells": [
  {
   "cell_type": "markdown",
   "metadata": {},
   "source": [
    "用数学语言表示\n",
    "- 条件1:SVM要最大化margin\n",
    "- 条件2: margin= 2d,也就是最大化d,d可以用点到线距离进行表示\n",
    "\n",
    "![n维空间的距离表达式](https://upload-images.jianshu.io/upload_images/5760375-4354f9018a89c597.png?imageMogr2/auto-orient/strip%7CimageView2/2/w/1240)\n",
    "\n",
    "设决策边界的数学表达式为\n",
    "![](https://upload-images.jianshu.io/upload_images/5760375-7a052f262ddf111b.png?imageMogr2/auto-orient/strip%7CimageView2/2/w/1240)\n",
    "\n",
    "\n",
    "根据最大化d,可以列出\n",
    "\n",
    "![](https://upload-images.jianshu.io/upload_images/5760375-737c596d147b2feb.png?imageMogr2/auto-orient/strip%7CimageView2/2/w/1240)\n",
    "\n",
    "化简后,可以得到,化简过程略.即为**条件2**的表达式.\n",
    "![](https://upload-images.jianshu.io/upload_images/5760375-f0d9984b85feb1b6.png?imageMogr2/auto-orient/strip%7CimageView2/2/w/1240)\n",
    "\n",
    "对于**条件1**的表达式,为\n",
    "![](https://upload-images.jianshu.io/upload_images/5760375-8665ccffe8687ce3.png?imageMogr2/auto-orient/strip%7CimageView2/2/w/1240)\n",
    "化简后可以得到\n",
    "![](https://upload-images.jianshu.io/upload_images/5760375-02355c65d659240d.png?imageMogr2/auto-orient/strip%7CimageView2/2/w/1240)\n",
    "\n",
    "\n",
    "所以,最终,问题为.由于求解超出了本科知识..这里不求解.\n",
    "需要求解的是w,b\n",
    "![](https://upload-images.jianshu.io/upload_images/5760375-9b5dc9acfce0ed02.png?imageMogr2/auto-orient/strip%7CimageView2/2/w/1240)\n",
    "\n"
   ]
  }
 ],
 "metadata": {
  "kernelspec": {
   "display_name": "Python 3",
   "language": "python",
   "name": "python3"
  },
  "language_info": {
   "codemirror_mode": {
    "name": "ipython",
    "version": 3
   },
   "file_extension": ".py",
   "mimetype": "text/x-python",
   "name": "python",
   "nbconvert_exporter": "python",
   "pygments_lexer": "ipython3",
   "version": "3.6.3"
  }
 },
 "nbformat": 4,
 "nbformat_minor": 2
}
