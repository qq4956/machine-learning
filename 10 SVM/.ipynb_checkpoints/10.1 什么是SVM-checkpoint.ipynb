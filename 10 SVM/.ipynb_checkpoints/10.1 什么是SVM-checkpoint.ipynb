{
 "cells": [
  {
   "cell_type": "markdown",
   "metadata": {},
   "source": [
    "### 线性SVM\n",
    "\n",
    "为了分割测试数据集,并且提升泛化能力\n",
    "1. 找到一条决策边界\n",
    "2. 使得两个类别距离决策边界最近的点,到决策边界的距离最远\n",
    "![](https://upload-images.jianshu.io/upload_images/5760375-fe785f89477e3f07.png?imageMogr2/auto-orient/strip%7CimageView2/2/w/1240)\n",
    "\n",
    "对于hard svm 支撑向量是穿过距离决策边界最近的点,与决策边界平行的直线.\n",
    "\n"
   ]
  },
  {
   "cell_type": "code",
   "execution_count": null,
   "metadata": {
    "collapsed": true
   },
   "outputs": [],
   "source": []
  }
 ],
 "metadata": {
  "kernelspec": {
   "display_name": "Python 3",
   "language": "python",
   "name": "python3"
  },
  "language_info": {
   "codemirror_mode": {
    "name": "ipython",
    "version": 3
   },
   "file_extension": ".py",
   "mimetype": "text/x-python",
   "name": "python",
   "nbconvert_exporter": "python",
   "pygments_lexer": "ipython3",
   "version": "3.6.3"
  }
 },
 "nbformat": 4,
 "nbformat_minor": 2
}
