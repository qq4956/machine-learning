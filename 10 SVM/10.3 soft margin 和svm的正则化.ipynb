{
 "cells": [
  {
   "cell_type": "markdown",
   "metadata": {},
   "source": [
    "### 为什么需要soft margin?\n",
    "1. hard margin 不能考虑到异常极端数据\n",
    "2. hard margin 遇见线性不可分问题,就不可分割了\n",
    "![](https://upload-images.jianshu.io/upload_images/5760375-58623687ed3f2835.png?imageMogr2/auto-orient/strip%7CimageView2/2/w/1240)\n",
    "\n",
    "### soft margin的定义\n",
    "![](https://upload-images.jianshu.io/upload_images/5760375-9420475996b21861.png?imageMogr2/auto-orient/strip%7CimageView2/2/w/1240)\n",
    "\n",
    "为了避免eta无限大,对SVM进行正则化,限制eta的大小\n",
    "![正则化](https://upload-images.jianshu.io/upload_images/5760375-4eefd7128d9b684a.png?imageMogr2/auto-orient/strip%7CimageView2/2/w/1240)\n",
    "\n",
    "添加了eta后,原先不可分的点,现在可分了,换句话说,这些点可以落在支撑向量内,范围通过eta决定\n",
    "![](https://upload-images.jianshu.io/upload_images/5760375-22ff1b196cd0f174.png?imageMogr2/auto-orient/strip%7CimageView2/2/w/1240)\n",
    "\n",
    "辨析一下支撑向量和决策边界\n",
    "- 支撑向量:可以反映eta的大小\n",
    "- 决策边界:看出预测值的类别\n",
    "![](https://upload-images.jianshu.io/upload_images/5760375-7a06f721c501b116.png?imageMogr2/auto-orient/strip%7CimageView2/2/w/1240)\n"
   ]
  },
  {
   "cell_type": "code",
   "execution_count": null,
   "metadata": {
    "collapsed": true
   },
   "outputs": [],
   "source": []
  }
 ],
 "metadata": {
  "kernelspec": {
   "display_name": "Python 3",
   "language": "python",
   "name": "python3"
  },
  "language_info": {
   "codemirror_mode": {
    "name": "ipython",
    "version": 3
   },
   "file_extension": ".py",
   "mimetype": "text/x-python",
   "name": "python",
   "nbconvert_exporter": "python",
   "pygments_lexer": "ipython3",
   "version": "3.6.3"
  }
 },
 "nbformat": 4,
 "nbformat_minor": 2
}
