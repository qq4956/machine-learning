{
 "cells": [
  {
   "cell_type": "markdown",
   "metadata": {},
   "source": [
    "这里拿SVM的多项式形式进行举例,由于在求解SVM的时候,会转换为右图形式\n",
    "![](https://upload-images.jianshu.io/upload_images/5760375-9b176e242b589a91.png?imageMogr2/auto-orient/strip%7CimageView2/2/w/1240)\n",
    "\n",
    "\n",
    "我们可以将xi,xj升维后,再带入原来的式子计算.也可以利用kernel函数,对xi,xj进行升维,两者是等价的.\n",
    "但是使用kernel函数有下列好处\n",
    "- 不用额外储存高维数据\n",
    "- 节省运行空间\n",
    "- 直观\n",
    "![](https://upload-images.jianshu.io/upload_images/5760375-be0cffb0e5cdb4c0.png?imageMogr2/auto-orient/strip%7CimageView2/2/w/1240)\n",
    "\n",
    "对于二次项核函数,为下列形式\n",
    "其中K(x,y) 与 x' y'等价.\n",
    "x' y'是升维后的数据.\n",
    "![二次项核函数](https://upload-images.jianshu.io/upload_images/5760375-2e7f2cc56421e847.png?imageMogr2/auto-orient/strip%7CimageView2/2/w/1240)\n",
    "\n",
    "在sklearn中,核函数为ploy时.有两个超参数:C,degree\n",
    "![](https://upload-images.jianshu.io/upload_images/5760375-b391d5c00c25b2f2.png?imageMogr2/auto-orient/strip%7CimageView2/2/w/1240)\n",
    "\n"
   ]
  },
  {
   "cell_type": "code",
   "execution_count": null,
   "metadata": {
    "collapsed": true
   },
   "outputs": [],
   "source": []
  }
 ],
 "metadata": {
  "kernelspec": {
   "display_name": "Python 3",
   "language": "python",
   "name": "python3"
  },
  "language_info": {
   "codemirror_mode": {
    "name": "ipython",
    "version": 3
   },
   "file_extension": ".py",
   "mimetype": "text/x-python",
   "name": "python",
   "nbconvert_exporter": "python",
   "pygments_lexer": "ipython3",
   "version": "3.6.3"
  }
 },
 "nbformat": 4,
 "nbformat_minor": 2
}
