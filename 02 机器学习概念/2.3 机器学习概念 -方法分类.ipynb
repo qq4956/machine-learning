{
 "cells": [
  {
   "cell_type": "markdown",
   "metadata": {},
   "source": [
    "机器学习的方法分类\n",
    "- 监督学习\n",
    "- 非监督学习\n",
    "- 半监督学习\n",
    "- 增强学习\n",
    "\n",
    "##### 1. 监督学习\n",
    "含义:给机器训练的数据,有了\"标记\"或者答案\n",
    "![](http://upload-images.jianshu.io/upload_images/5760375-5a2466e2351e5cbb.png?imageMogr2/auto-orient/strip%7CimageView2/2/w/1240)\n",
    "\n",
    "\n",
    "下列算法为监督学习\n",
    "1. KNN\n",
    "2. 线性回归和多项式回归\n",
    "3. 逻辑回归\n",
    "4. SVM\n",
    "5. 决策树与随机森林\n",
    "\n",
    "#### 2.非监督学习\n",
    "含义: 对没有标记的数据进行分类-聚类分析\n",
    "![](http://upload-images.jianshu.io/upload_images/5760375-f065c228e5cef3b4.png?imageMogr2/auto-orient/strip%7CimageView2/2/w/1240)\n",
    "\n",
    "意义:\n",
    "1.对数据进行PCA 降维处理,方便可视化\n",
    "\n",
    "#### 3.半监督学习\n",
    "一部分数据有\"标记\"或者\"答案\",另一部分数据没有.\n",
    "通常先进行非监督学习,然后进行监督学习.\n",
    "\n",
    "#### 4.增强学习\n",
    "根据周围环境,采取行动,根据行动的结果,学习行动的方式.\n",
    "![](http://upload-images.jianshu.io/upload_images/5760375-3763ce801a4af72b.png?imageMogr2/auto-orient/strip%7CimageView2/2/w/1240)\n",
    "\n"
   ]
  },
  {
   "cell_type": "code",
   "execution_count": null,
   "metadata": {
    "collapsed": true
   },
   "outputs": [],
   "source": []
  }
 ],
 "metadata": {
  "kernelspec": {
   "display_name": "Python 3",
   "language": "python",
   "name": "python3"
  },
  "language_info": {
   "codemirror_mode": {
    "name": "ipython",
    "version": 3
   },
   "file_extension": ".py",
   "mimetype": "text/x-python",
   "name": "python",
   "nbconvert_exporter": "python",
   "pygments_lexer": "ipython3",
   "version": "3.6.3"
  }
 },
 "nbformat": 4,
 "nbformat_minor": 2
}
