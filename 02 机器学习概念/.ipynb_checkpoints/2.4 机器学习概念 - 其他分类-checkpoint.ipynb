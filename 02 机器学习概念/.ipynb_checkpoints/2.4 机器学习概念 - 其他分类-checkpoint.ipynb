{
 "cells": [
  {
   "cell_type": "markdown",
   "metadata": {},
   "source": [
    "#### 在线学习和批量学习\n",
    "批量学习采用的模型是原始数据生成的模型,输出的结果数据,不会改变原有模型\n",
    "在线学习生成的模型是根据输出结果与正确结果比较,得到反馈后,再生成的模型.\n",
    "![批量学习](http://upload-images.jianshu.io/upload_images/5760375-fc18e62c3ee1a452.png?imageMogr2/auto-orient/strip%7CimageView2/2/w/1240)\n",
    "![在线学习](http://upload-images.jianshu.io/upload_images/5760375-9215a7ce21a2bea1.png?imageMogr2/auto-orient/strip%7CimageView2/2/w/1240)\n",
    "\n",
    "#### 参数学习和非参数学习\n",
    "\n",
    "参数学习:一旦学习到参数,不会改变原有数据集.比如线性回归.\n",
    "非参数学习:不对模型进行过多假设,非参数不等于没有参数."
   ]
  },
  {
   "cell_type": "code",
   "execution_count": null,
   "metadata": {
    "collapsed": true
   },
   "outputs": [],
   "source": []
  }
 ],
 "metadata": {
  "kernelspec": {
   "display_name": "Python 3",
   "language": "python",
   "name": "python3"
  },
  "language_info": {
   "codemirror_mode": {
    "name": "ipython",
    "version": 3
   },
   "file_extension": ".py",
   "mimetype": "text/x-python",
   "name": "python",
   "nbconvert_exporter": "python",
   "pygments_lexer": "ipython3",
   "version": "3.6.3"
  }
 },
 "nbformat": 4,
 "nbformat_minor": 2
}
