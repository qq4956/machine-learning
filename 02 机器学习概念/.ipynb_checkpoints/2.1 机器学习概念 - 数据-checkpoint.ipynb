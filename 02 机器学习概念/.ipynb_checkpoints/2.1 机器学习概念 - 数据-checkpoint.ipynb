{
 "cells": [
  {
   "cell_type": "markdown",
   "metadata": {},
   "source": [
    "\n",
    "#### 数据基础\n",
    "\n",
    "样本:每一行数据\n",
    "特征:除了最后一列,每列都是样本的一个特征\n",
    "标记:最后一列,对应y\n",
    "数据集:整体数据\n",
    "特征向量:具体的向量\n",
    "特征:特征向量的title\n",
    "\n",
    "![数据详述](http://upload-images.jianshu.io/upload_images/5760375-7e48057d8c5763df.png?imageMogr2/auto-orient/strip%7CimageView2/2/w/1240)\n",
    "![数据详述](http://upload-images.jianshu.io/upload_images/5760375-9289afe02244ff41.png?imageMogr2/auto-orient/strip%7CimageView2/2/w/1240)\n",
    "\n",
    "#### 特征空间\n",
    "将特征投射在坐标系中,形成了特征空间\n",
    "![特征空间.png](http://upload-images.jianshu.io/upload_images/5760375-a948d3bbdbd3c501.png?imageMogr2/auto-orient/strip%7CimageView2/2/w/1240)\n",
    "\n"
   ]
  },
  {
   "cell_type": "code",
   "execution_count": null,
   "metadata": {
    "collapsed": true
   },
   "outputs": [],
   "source": []
  }
 ],
 "metadata": {
  "kernelspec": {
   "display_name": "Python 3",
   "language": "python",
   "name": "python3"
  },
  "language_info": {
   "codemirror_mode": {
    "name": "ipython",
    "version": 3
   },
   "file_extension": ".py",
   "mimetype": "text/x-python",
   "name": "python",
   "nbconvert_exporter": "python",
   "pygments_lexer": "ipython3",
   "version": "3.6.3"
  }
 },
 "nbformat": 4,
 "nbformat_minor": 2
}
