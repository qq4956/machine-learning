{
 "cells": [
  {
   "cell_type": "markdown",
   "metadata": {},
   "source": [
    "#### 机器学习的基本任务\n",
    "- 分类任务:本质是对特征空间的切分\n",
    "- 回归任务:结果是一个连续数字的数值,而非类别\n",
    "\n",
    "\n",
    "对于分类任务,又分为\n",
    "- 二分类\n",
    "- 分类\n",
    "\n",
    "##### 二分类任务的场景\n",
    "1.判断邮件是否是垃圾邮件\n",
    "2.判断肿瘤是否是恶性肿瘤\n",
    "3.判断某只股票涨跌\n",
    "\n",
    "##### 多分类任务的场景\n",
    "1. 数字识别\n",
    "2. 图像识别\n",
    "3. 商品品类分类为标准品类\n",
    "\n",
    "##### 多分类任务的场景\n",
    "1. 房屋价格\n",
    "2. 市场分析\n",
    "3. 学生成绩"
   ]
  },
  {
   "cell_type": "code",
   "execution_count": null,
   "metadata": {
    "collapsed": true
   },
   "outputs": [],
   "source": []
  }
 ],
 "metadata": {
  "kernelspec": {
   "display_name": "Python 3",
   "language": "python",
   "name": "python3"
  },
  "language_info": {
   "codemirror_mode": {
    "name": "ipython",
    "version": 3
   },
   "file_extension": ".py",
   "mimetype": "text/x-python",
   "name": "python",
   "nbconvert_exporter": "python",
   "pygments_lexer": "ipython3",
   "version": "3.6.3"
  }
 },
 "nbformat": 4,
 "nbformat_minor": 2
}
