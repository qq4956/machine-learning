{
 "cells": [
  {
   "attachments": {},
   "cell_type": "markdown",
   "metadata": {},
   "source": [
    "### 高维数据向低维数据映射\n",
    "![image.png](http://upload-images.jianshu.io/upload_images/5760375-b25ff9bc3c3c8b47.png?imageMogr2/auto-orient/strip%7CimageView2/2/w/1240)"
   ]
  },
  {
   "attachments": {},
   "cell_type": "markdown",
   "metadata": {},
   "source": [
    "### 低维数据向高维数据恢复\n",
    "\n",
    "![image.png](http://upload-images.jianshu.io/upload_images/5760375-cc43a153fddbd920.png?imageMogr2/auto-orient/strip%7CimageView2/2/w/1240)\n"
   ]
  },
  {
   "cell_type": "markdown",
   "metadata": {},
   "source": [
    "###  sklearn中的PCA使用方式\n",
    "1. 实例化PCA类\n",
    "2. 对数据集进行fit,传入n_component,获得对应维度的w\n",
    "3. 对数据集进行transform,获得降维后的数据集"
   ]
  },
  {
   "cell_type": "code",
   "execution_count": 32,
   "metadata": {
    "collapsed": true
   },
   "outputs": [],
   "source": [
    "import numpy as np\n",
    "import matplotlib.pyplot as plt"
   ]
  },
  {
   "cell_type": "code",
   "execution_count": 22,
   "metadata": {
    "collapsed": true
   },
   "outputs": [],
   "source": [
    "class PCA:\n",
    "    def __init__(self,n_components):\n",
    "        self.n_components = n_components\n",
    "        self.component_  = None\n",
    "    \n",
    "    def fit(self, X, eta=0.01, n_iters=1e4):\n",
    "        def demean(X):\n",
    "            return  X - np.mean(X,axis = 0)\n",
    "    \n",
    "        def f(w,X):\n",
    "            return np.sum((X.dot(w)**2))/len(X)\n",
    "\n",
    "        def df(w,X):\n",
    "            return X.T.dot(X.dot(w))*2. /len(X)\n",
    "\n",
    "        def derection(w):\n",
    "            return w / np.linalg.norm(w)\n",
    "\n",
    "        def first_componet(X,initial_w,eta,n_iters = 1e4,epsilon = 1e-8):\n",
    "\n",
    "            w = derection(initial_w)\n",
    "            c_iters = 0\n",
    "\n",
    "            while c_iters < n_iters:\n",
    "                gradient = df(w,X)\n",
    "                last_w = w\n",
    "                # 注意点1:此处的w为方向向量,应该做处理.\n",
    "                w = w + eta * gradient\n",
    "                w = derection(w)\n",
    "                if (abs(f(w,X) -f(last_w,X)) < epsilon):\n",
    "                    break\n",
    "\n",
    "                c_iters += 1\n",
    "\n",
    "\n",
    "            return w\n",
    "\n",
    "        X_pca = X.copy()\n",
    "        X_pca = demean(X_pca)\n",
    "        self.component_ = np.empty((self.n_components,X.shape[1]))\n",
    "        for i in range(self.n_components):\n",
    "            innitial_w = np.random.random(X_pca.shape[1])\n",
    "            w = first_componet(X_pca,innitial_w,eta)\n",
    "            self.component_[i,:] = w\n",
    "            X_pca = X_pca - X_pca.dot(w).reshape(-1,1)*w\n",
    "\n",
    "        return self\n",
    "    \n",
    "    def transform(self,X):\n",
    "        return X.dot(self.component_.T)\n",
    "    \n",
    "    def inverse_transform(self,X):\n",
    "        return X.dot(self.component_)\n",
    "    \n",
    "    def __repr__(self):\n",
    "        return \"PCA(n_components=%d)\" % self.n_components"
   ]
  },
  {
   "cell_type": "code",
   "execution_count": null,
   "metadata": {
    "collapsed": true
   },
   "outputs": [],
   "source": [
    "X = np.empty((100,2))\n",
    "X[:,0] = np.random.uniform(0.,100.,size = 100)\n",
    "# 生成 0~100 的随机浮点数. 随机分布\n",
    "X[:,1] = 0.75 * X[:,0] +3. + np.random.normal(0,10.,size = 100)"
   ]
  },
  {
   "cell_type": "code",
   "execution_count": 24,
   "metadata": {},
   "outputs": [
    {
     "data": {
      "text/plain": [
       "PCA(n_components=2)"
      ]
     },
     "execution_count": 24,
     "metadata": {},
     "output_type": "execute_result"
    }
   ],
   "source": [
    "pca = PCA(n_components=2)\n",
    "pca.fit(X)"
   ]
  },
  {
   "cell_type": "code",
   "execution_count": 25,
   "metadata": {},
   "outputs": [
    {
     "data": {
      "text/plain": [
       "array([[ 0.75407078,  0.65679316],\n",
       "       [-0.65678953,  0.75407394]])"
      ]
     },
     "execution_count": 25,
     "metadata": {},
     "output_type": "execute_result"
    }
   ],
   "source": [
    "pca.component_"
   ]
  },
  {
   "cell_type": "code",
   "execution_count": 26,
   "metadata": {},
   "outputs": [
    {
     "data": {
      "text/plain": [
       "PCA(n_components=1)"
      ]
     },
     "execution_count": 26,
     "metadata": {},
     "output_type": "execute_result"
    }
   ],
   "source": [
    "pca = PCA(n_components=1)\n",
    "pca.fit(X)"
   ]
  },
  {
   "cell_type": "code",
   "execution_count": 30,
   "metadata": {
    "collapsed": true
   },
   "outputs": [],
   "source": [
    "## 看看降维的数据的变化情况\n",
    "X_reduction  = pca.transform(X)\n",
    "X_recovery = pca.inverse_transform(X_reduction)"
   ]
  },
  {
   "cell_type": "code",
   "execution_count": 34,
   "metadata": {},
   "outputs": [
    {
     "data": {
      "image/png": "[encoded data removed]",
      "text/plain": [
       "<matplotlib.figure.Figure at 0x1138dfef0>"
      ]
     },
     "metadata": {},
     "output_type": "display_data"
    }
   ],
   "source": [
    "plt.scatter(X[:,0],X[:,1])\n",
    "plt.scatter(X_recovery[:,0],X_recovery[:,1])\n",
    "plt.show()"
   ]
  },
  {
   "cell_type": "markdown",
   "metadata": {},
   "source": [
    "可以看出,降维后的数据,恢复到二维平面,依然是一条直线,只是在高维空间表达低维而已. 一条直线也可以用一维表示."
   ]
  },
  {
   "cell_type": "code",
   "execution_count": null,
   "metadata": {
    "collapsed": true
   },
   "outputs": [],
   "source": []
  },
  {
   "cell_type": "markdown",
   "metadata": {
    "collapsed": true
   },
   "source": [
    "###  Scikit_learn中的PCA"
   ]
  },
  {
   "cell_type": "code",
   "execution_count": 35,
   "metadata": {
    "collapsed": true
   },
   "outputs": [],
   "source": [
    "from sklearn.decomposition import PCA"
   ]
  },
  {
   "cell_type": "code",
   "execution_count": 36,
   "metadata": {
    "collapsed": true
   },
   "outputs": [],
   "source": [
    "pca = PCA(n_components=1)"
   ]
  },
  {
   "cell_type": "code",
   "execution_count": 37,
   "metadata": {},
   "outputs": [
    {
     "data": {
      "text/plain": [
       "PCA(copy=True, iterated_power='auto', n_components=1, random_state=None,\n",
       "  svd_solver='auto', tol=0.0, whiten=False)"
      ]
     },
     "execution_count": 37,
     "metadata": {},
     "output_type": "execute_result"
    }
   ],
   "source": [
    "pca.fit(X)"
   ]
  },
  {
   "cell_type": "code",
   "execution_count": 38,
   "metadata": {},
   "outputs": [
    {
     "data": {
      "text/plain": [
       "array([[-0.7540708 , -0.65679315]])"
      ]
     },
     "execution_count": 38,
     "metadata": {},
     "output_type": "execute_result"
    }
   ],
   "source": [
    "pca.components_"
   ]
  },
  {
   "cell_type": "code",
   "execution_count": 40,
   "metadata": {
    "collapsed": true
   },
   "outputs": [],
   "source": [
    "X_reduction = pca.transform(X)\n",
    "X_restore  = pca.inverse_transform(X_reduction)"
   ]
  },
  {
   "cell_type": "code",
   "execution_count": 41,
   "metadata": {},
   "outputs": [
    {
     "data": {
      "image/png": "[encoded data removed]",
      "text/plain": [
       "<matplotlib.figure.Figure at 0x1a15a45ba8>"
      ]
     },
     "metadata": {},
     "output_type": "display_data"
    }
   ],
   "source": [
    "plt.scatter(X[:,0],X[:,1])\n",
    "plt.scatter(X_restore[:,0],X_restore[:,1])\n",
    "plt.show()"
   ]
  },
  {
   "cell_type": "code",
   "execution_count": null,
   "metadata": {
    "collapsed": true
   },
   "outputs": [],
   "source": []
  }
 ],
 "metadata": {
  "kernelspec": {
   "display_name": "Python 3",
   "language": "python",
   "name": "python3"
  },
  "language_info": {
   "codemirror_mode": {
    "name": "ipython",
    "version": 3
   },
   "file_extension": ".py",
   "mimetype": "text/x-python",
   "name": "python",
   "nbconvert_exporter": "python",
   "pygments_lexer": "ipython3",
   "version": "3.6.3"
  }
 },
 "nbformat": 4,
 "nbformat_minor": 2
}
