{
 "cells": [
  {
   "cell_type": "markdown",
   "metadata": {},
   "source": [
    "## 模型误差\n",
    "\n",
    "模型误差 = 偏差 + 方差 + 不可避免的误差"
   ]
  },
  {
   "cell_type": "markdown",
   "metadata": {},
   "source": [
    "### 偏差\n",
    "\n",
    "主要原因:对模型的假设不正确\n",
    "\n",
    "比如非线性问题,采用了线性回归. 欠拟合"
   ]
  },
  {
   "cell_type": "markdown",
   "metadata": {},
   "source": [
    "### 方差\n",
    "\n",
    "主要原因:使用的模型太复杂.\n",
    "\n",
    "比如高阶多项式回归"
   ]
  },
  {
   "cell_type": "markdown",
   "metadata": {},
   "source": [
    "### 偏差与方差\n",
    "\n",
    "- 参数学习的算法,通常是高偏差的算法,因为对模型有极强的假设.\n",
    "- 非参数学习的算法,通常是高方差的算法,因为不对模型做任何假设.\n",
    "- 大多数算法,可以调整参数,从而调整偏差与方差.\n",
    "- 偏差和方差通常是相互矛盾的,此消彼长"
   ]
  },
  {
   "cell_type": "markdown",
   "metadata": {},
   "source": [
    "### 机器学习中的方差\n",
    "\n",
    "机器学习的挑战,通常来自方差\n",
    "\n",
    "解决高方差的通常手段\n",
    "1. 降低模型复杂度.比如降低多项式回归的degree\n",
    "2. 降低数据维度.比如使用PCA降噪\n",
    "3. 增加样本数.增加样本.\n",
    "4. 使用验证集.使用交叉验证,防止过拟合\n",
    "5. 模型正则化."
   ]
  },
  {
   "cell_type": "code",
   "execution_count": null,
   "metadata": {
    "collapsed": true
   },
   "outputs": [],
   "source": []
  }
 ],
 "metadata": {
  "kernelspec": {
   "display_name": "Python 3",
   "language": "python",
   "name": "python3"
  },
  "language_info": {
   "codemirror_mode": {
    "name": "ipython",
    "version": 3
   },
   "file_extension": ".py",
   "mimetype": "text/x-python",
   "name": "python",
   "nbconvert_exporter": "python",
   "pygments_lexer": "ipython3",
   "version": "3.6.3"
  }
 },
 "nbformat": 4,
 "nbformat_minor": 2
}
