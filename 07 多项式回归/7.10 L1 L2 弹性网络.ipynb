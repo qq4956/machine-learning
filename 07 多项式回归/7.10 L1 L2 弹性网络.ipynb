{
 "cells": [
  {
   "attachments": {},
   "cell_type": "markdown",
   "metadata": {},
   "source": [
    "## L1 正则 L2 正则\n",
    "\n",
    "![image.png](http://upload-images.jianshu.io/upload_images/5760375-0d6ed2456fe66ee1.png?imageMogr2/auto-orient/strip%7CimageView2/2/w/1240)\n"
   ]
  },
  {
   "cell_type": "markdown",
   "metadata": {},
   "source": [
    "简单的记忆\n",
    "- p = 1 L1正则\n",
    "- P = 2,不过没有根号 L2正则"
   ]
  },
  {
   "attachments": {},
   "cell_type": "markdown",
   "metadata": {},
   "source": [
    "### LP范数与明可夫斯基距离\n",
    "![image.png](http://upload-images.jianshu.io/upload_images/5760375-da4fec510ee9a3f7.png?imageMogr2/auto-orient/strip%7CimageView2/2/w/1240)"
   ]
  },
  {
   "attachments": {},
   "cell_type": "markdown",
   "metadata": {},
   "source": [
    "### 弹性网\n",
    "在损失函数中,同时考虑了L1 L2\n",
    "![image.png](http://upload-images.jianshu.io/upload_images/5760375-1433b17a05ce32a4.png?imageMogr2/auto-orient/strip%7CimageView2/2/w/1240)\n"
   ]
  },
  {
   "cell_type": "code",
   "execution_count": null,
   "metadata": {
    "collapsed": true
   },
   "outputs": [],
   "source": []
  }
 ],
 "metadata": {
  "kernelspec": {
   "display_name": "Python 3",
   "language": "python",
   "name": "python3"
  },
  "language_info": {
   "codemirror_mode": {
    "name": "ipython",
    "version": 3
   },
   "file_extension": ".py",
   "mimetype": "text/x-python",
   "name": "python",
   "nbconvert_exporter": "python",
   "pygments_lexer": "ipython3",
   "version": "3.6.3"
  }
 },
 "nbformat": 4,
 "nbformat_minor": 2
}
