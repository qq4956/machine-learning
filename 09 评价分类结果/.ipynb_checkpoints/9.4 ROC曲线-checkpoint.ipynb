{
 "cells": [
  {
   "cell_type": "markdown",
   "metadata": {},
   "source": [
    "## ROC曲线\n",
    "- 描述TPR与FPR的关系"
   ]
  },
  {
   "attachments": {},
   "cell_type": "markdown",
   "metadata": {},
   "source": [
    "## TPR\n",
    "![image.png](http://upload-images.jianshu.io/upload_images/5760375-90e8e224b0c0989f.png?imageMogr2/auto-orient/strip%7CimageView2/2/w/1240)\n"
   ]
  },
  {
   "attachments": {},
   "cell_type": "markdown",
   "metadata": {},
   "source": [
    "## FPR\n",
    "![image.png](http://upload-images.jianshu.io/upload_images/5760375-e64781a9b078946f.png?imageMogr2/auto-orient/strip%7CimageView2/2/w/1240)"
   ]
  },
  {
   "cell_type": "markdown",
   "metadata": {},
   "source": [
    "## TPR与FPR的关系\n",
    "- 共同增加,共同减小\n",
    "- TPR的分母是\"应该选出的\",FPR的分母是\"应该不被选出\""
   ]
  },
  {
   "cell_type": "markdown",
   "metadata": {},
   "source": [
    "## ROC曲线"
   ]
  },
  {
   "attachments": {},
   "cell_type": "markdown",
   "metadata": {},
   "source": [
    "\n",
    "![image.png](http://upload-images.jianshu.io/upload_images/5760375-678ad6fa591772d4.png?imageMogr2/auto-orient/strip%7CimageView2/2/w/1240)"
   ]
  },
  {
   "attachments": {},
   "cell_type": "markdown",
   "metadata": {},
   "source": [
    "## AUC\n",
    "\n",
    "- auc是roc曲线的面积,小于等于1\n",
    "![image.png](http://upload-images.jianshu.io/upload_images/5760375-bcd89089d8ac4063.png?imageMogr2/auto-orient/strip%7CimageView2/2/w/1240)\n"
   ]
  },
  {
   "cell_type": "code",
   "execution_count": null,
   "metadata": {
    "collapsed": true
   },
   "outputs": [],
   "source": []
  },
  {
   "cell_type": "code",
   "execution_count": null,
   "metadata": {
    "collapsed": true
   },
   "outputs": [],
   "source": []
  },
  {
   "cell_type": "code",
   "execution_count": 26,
   "metadata": {
    "collapsed": true
   },
   "outputs": [],
   "source": [
    "import numpy as np\n",
    "from math import sqrt\n",
    "import  matplotlib.pyplot as plt\n",
    "\n",
    "def accuracy_score(y_true, y_predict):\n",
    "    \"\"\"计算y_true和y_predict之间的准确率\"\"\"\n",
    "    assert len(y_true) == len(y_predict), \\\n",
    "        \"the size of y_true must be equal to the size of y_predict\"\n",
    "\n",
    "    return np.sum(y_true == y_predict) / len(y_true)\n",
    "\n",
    "\n",
    "def mean_squared_error(y_true, y_predict):\n",
    "    \"\"\"计算y_true和y_predict之间的MSE\"\"\"\n",
    "    assert len(y_true) == len(y_predict), \\\n",
    "        \"the size of y_true must be equal to the size of y_predict\"\n",
    "\n",
    "    return np.sum((y_true - y_predict)**2) / len(y_true)\n",
    "\n",
    "\n",
    "def root_mean_squared_error(y_true, y_predict):\n",
    "    \"\"\"计算y_true和y_predict之间的RMSE\"\"\"\n",
    "\n",
    "    return sqrt(mean_squared_error(y_true, y_predict))\n",
    "\n",
    "\n",
    "def mean_absolute_error(y_true, y_predict):\n",
    "    \"\"\"计算y_true和y_predict之间的RMSE\"\"\"\n",
    "    assert len(y_true) == len(y_predict), \\\n",
    "        \"the size of y_true must be equal to the size of y_predict\"\n",
    "\n",
    "    return np.sum(np.absolute(y_true - y_predict)) / len(y_true)\n",
    "\n",
    "\n",
    "def r2_score(y_true, y_predict):\n",
    "    \"\"\"计算y_true和y_predict之间的R Square\"\"\"\n",
    "\n",
    "    return 1 - mean_squared_error(y_true, y_predict)/np.var(y_true)\n",
    "\n",
    "def TN(y_true,y_predict):\n",
    "    assert len(y_true) ==len(y_predict)\n",
    "    return np.sum((y_true == 0 ) & (y_predict == 0))\n"
   ]
  },
  {
   "cell_type": "code",
   "execution_count": 5,
   "metadata": {
    "collapsed": true
   },
   "outputs": [],
   "source": [
    "def FP(y_true,y_predict):\n",
    "    assert len(y_true) ==len(y_predict)\n",
    "    return np.sum((y_true == 0 ) & (y_predict == 1))"
   ]
  },
  {
   "cell_type": "code",
   "execution_count": 6,
   "metadata": {
    "collapsed": true
   },
   "outputs": [],
   "source": [
    "def FN(y_true,y_predict):\n",
    "    assert len(y_true) ==len(y_predict)\n",
    "    return np.sum((y_true == 1 ) & (y_predict == 0))"
   ]
  },
  {
   "cell_type": "code",
   "execution_count": 7,
   "metadata": {
    "collapsed": true
   },
   "outputs": [],
   "source": [
    "def TP(y_true,y_predict):\n",
    "    assert len(y_true) ==len(y_predict)\n",
    "    return np.sum((y_true == 1 ) & (y_predict == 1))"
   ]
  },
  {
   "cell_type": "code",
   "execution_count": 8,
   "metadata": {
    "collapsed": true
   },
   "outputs": [],
   "source": [
    "def confusion_matrix(y_true,y_predict):\n",
    "    return np.array([\n",
    "        [TN(y_true,y_predict),FP(y_true,y_predict)],\n",
    "        [FN(y_true,y_predict),TP(y_true,y_predict)]\n",
    "    ])"
   ]
  },
  {
   "cell_type": "code",
   "execution_count": 9,
   "metadata": {
    "collapsed": true
   },
   "outputs": [],
   "source": [
    "def precision_score(y_true,y_predict):\n",
    "    fp = FP(y_true,y_predict)\n",
    "    tp = TP(y_true,y_predict)\n",
    "    try:\n",
    "        return tp/(fp+tp)\n",
    "    except:\n",
    "        return 0.0"
   ]
  },
  {
   "cell_type": "code",
   "execution_count": 10,
   "metadata": {
    "collapsed": true
   },
   "outputs": [],
   "source": [
    "def recall_score(y_true,y_predict):\n",
    "    fn = FN(y_true,y_predict)\n",
    "    tp = TP(y_true,y_predict)\n",
    "    try:\n",
    "        return tp/(fn+tp)\n",
    "    except:\n",
    "        return 0.0"
   ]
  },
  {
   "cell_type": "code",
   "execution_count": 11,
   "metadata": {
    "collapsed": true
   },
   "outputs": [],
   "source": [
    "def TPR(y_true,y_predict):\n",
    "    tp = TP(y_true,y_predict)\n",
    "    fn = FN(y_true,y_predict)\n",
    "    try:\n",
    "        return tp/(fn+tp)\n",
    "    except:\n",
    "        return 0.0"
   ]
  },
  {
   "cell_type": "code",
   "execution_count": 12,
   "metadata": {
    "collapsed": true
   },
   "outputs": [],
   "source": [
    "def FPR(y_true,y_predict):\n",
    "    tn = TN(y_true,y_predict)\n",
    "    fp = FP(y_true,y_predict)\n",
    "    try:\n",
    "        return fp/(tn+fp)\n",
    "    except:\n",
    "        return 0.0"
   ]
  },
  {
   "cell_type": "code",
   "execution_count": 13,
   "metadata": {
    "collapsed": true
   },
   "outputs": [],
   "source": [
    "import numpy as np\n",
    "from sklearn import datasets"
   ]
  },
  {
   "cell_type": "code",
   "execution_count": 14,
   "metadata": {
    "collapsed": true
   },
   "outputs": [],
   "source": [
    "digits = datasets.load_digits()\n",
    "X = digits.data\n",
    "y = digits.target.copy()\n",
    "\n",
    "y[digits.target == 9] = 1\n",
    "y[digits.target != 9] = 0"
   ]
  },
  {
   "cell_type": "code",
   "execution_count": 15,
   "metadata": {
    "collapsed": true
   },
   "outputs": [],
   "source": [
    "from sklearn.model_selection import train_test_split\n",
    "\n",
    "X_train, X_test, y_train, y_test = train_test_split(X, y, random_state=666)"
   ]
  },
  {
   "cell_type": "code",
   "execution_count": 16,
   "metadata": {
    "collapsed": true
   },
   "outputs": [],
   "source": [
    "from sklearn.linear_model import LogisticRegression\n",
    "log_reg = LogisticRegression()\n",
    "log_reg.fit(X_train,y_train)"
   ]
  },
  {
   "cell_type": "code",
   "execution_count": 23,
   "metadata": {
    "collapsed": true
   },
   "outputs": [],
   "source": [
    "decision_score = log_reg.decision_function(X_test)\n",
    "thresholds = np.arange(np.min(decision_score),np.max(decision_score),0.1)\n",
    "tprs = []\n",
    "fprs = []\n",
    "\n",
    "for threshold in thresholds:\n",
    "    y_predict = np.array(decision_score >= threshold,dtype = 'int' ) \n",
    "    tprs.append(TPR(y_test,y_predict))\n",
    "    fprs.append(FPR(y_test,y_predict))"
   ]
  },
  {
   "cell_type": "code",
   "execution_count": 27,
   "metadata": {},
   "outputs": [
    {
     "data": {
      "image/png": "[encoded data removed]",
      "text/plain": [
       "<matplotlib.figure.Figure at 0x1a1052fba8>"
      ]
     },
     "metadata": {},
     "output_type": "display_data"
    }
   ],
   "source": [
    "plt.plot(fprs,tprs)\n",
    "plt.show()"
   ]
  },
  {
   "cell_type": "markdown",
   "metadata": {},
   "source": [
    "### SKLEARN中的ROC"
   ]
  },
  {
   "cell_type": "code",
   "execution_count": 29,
   "metadata": {
    "collapsed": true
   },
   "outputs": [],
   "source": [
    "from sklearn.metrics import roc_curve"
   ]
  },
  {
   "cell_type": "code",
   "execution_count": 31,
   "metadata": {
    "collapsed": true
   },
   "outputs": [],
   "source": [
    "fprs,tprs,threholds = roc_curve(y_test,decision_score)"
   ]
  },
  {
   "cell_type": "code",
   "execution_count": 32,
   "metadata": {},
   "outputs": [
    {
     "data": {
      "image/png": "[encoded data removed]",
      "text/plain": [
       "<matplotlib.figure.Figure at 0x1a10d2d5f8>"
      ]
     },
     "metadata": {},
     "output_type": "display_data"
    }
   ],
   "source": [
    "plt.plot(fprs,tprs)\n",
    "plt.show()"
   ]
  },
  {
   "cell_type": "markdown",
   "metadata": {},
   "source": [
    "auc 曲线的面积"
   ]
  },
  {
   "cell_type": "code",
   "execution_count": 33,
   "metadata": {},
   "outputs": [
    {
     "data": {
      "text/plain": [
       "0.98304526748971188"
      ]
     },
     "execution_count": 33,
     "metadata": {},
     "output_type": "execute_result"
    }
   ],
   "source": [
    "from sklearn.metrics import roc_auc_score\n",
    "roc_auc_score(y_test,decision_score)"
   ]
  },
  {
   "cell_type": "code",
   "execution_count": null,
   "metadata": {
    "collapsed": true
   },
   "outputs": [],
   "source": []
  },
  {
   "cell_type": "code",
   "execution_count": null,
   "metadata": {
    "collapsed": true
   },
   "outputs": [],
   "source": []
  }
 ],
 "metadata": {
  "kernelspec": {
   "display_name": "Python 3",
   "language": "python",
   "name": "python3"
  },
  "language_info": {
   "codemirror_mode": {
    "name": "ipython",
    "version": 3
   },
   "file_extension": ".py",
   "mimetype": "text/x-python",
   "name": "python",
   "nbconvert_exporter": "python",
   "pygments_lexer": "ipython3",
   "version": "3.6.3"
  }
 },
 "nbformat": 4,
 "nbformat_minor": 2
}
