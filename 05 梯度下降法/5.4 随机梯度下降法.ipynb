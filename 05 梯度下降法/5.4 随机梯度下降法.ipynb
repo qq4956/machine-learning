{
 "cells": [
  {
   "cell_type": "markdown",
   "metadata": {},
   "source": [
    "### 批量梯度下降法\n",
    "对梯度中的每个元素,使用了全部样本进行求解,所以叫做批量梯度下降法\n",
    "\n",
    "### 随机梯度下降法\n",
    "直接用某一个样本的梯度进行求解\n",
    "优点是加快了求解的速度"
   ]
  },
  {
   "attachments": {},
   "cell_type": "markdown",
   "metadata": {},
   "source": [
    "![image.png](http://upload-images.jianshu.io/upload_images/5760375-f11eff170d4dc979.png?imageMogr2/auto-orient/strip%7CimageView2/2/w/1240)"
   ]
  },
  {
   "attachments": {},
   "cell_type": "markdown",
   "metadata": {},
   "source": [
    "![image.png](http://upload-images.jianshu.io/upload_images/5760375-6fcd6d226a09fa26.png?imageMogr2/auto-orient/strip%7CimageView2/2/w/1240)\n"
   ]
  },
  {
   "attachments": {},
   "cell_type": "markdown",
   "metadata": {},
   "source": [
    "### 随机梯度下降法的学习率\n",
    "![image.png](http://upload-images.jianshu.io/upload_images/5760375-90955a68c6f972de.png?imageMogr2/auto-orient/strip%7CimageView2/2/w/1240)\n"
   ]
  },
  {
   "cell_type": "markdown",
   "metadata": {},
   "source": [
    "由于使用了单个样本求梯度,梯度下降并不会很规则,到了求解到目标点时,可能产生反向,所以通过降低学习率去控制.\n",
    "\n",
    "a,b是采用\"模拟退火\"的思路,b是为了防止开始时,eta过大,a是为了更加灵活."
   ]
  },
  {
   "cell_type": "code",
   "execution_count": null,
   "metadata": {
    "collapsed": true
   },
   "outputs": [],
   "source": []
  },
  {
   "cell_type": "code",
   "execution_count": 2,
   "metadata": {
    "collapsed": true
   },
   "outputs": [],
   "source": [
    "import numpy as np\n",
    "import matplotlib.pyplot as plt"
   ]
  },
  {
   "cell_type": "markdown",
   "metadata": {
    "collapsed": true
   },
   "source": [
    "## 先看批量梯度下降法"
   ]
  },
  {
   "cell_type": "code",
   "execution_count": 3,
   "metadata": {
    "collapsed": true
   },
   "outputs": [],
   "source": [
    "m = 100000\n",
    "\n",
    "x = np.random.normal(size = m)\n",
    "X = x.reshape(-1,1)\n",
    "y = 4.*x + 3.+ np.random.normal(0,3,size = m)"
   ]
  },
  {
   "cell_type": "code",
   "execution_count": 4,
   "metadata": {
    "collapsed": true
   },
   "outputs": [],
   "source": [
    "def J(theta,X_b,y):\n",
    "    try:\n",
    "        return np.sum((y-X_b.dot(theta))**2)/len(X_b)\n",
    "    #使用try except 防止损失函数太大\n",
    "    except:\n",
    "        return float('inf')\n",
    "    "
   ]
  },
  {
   "cell_type": "code",
   "execution_count": 5,
   "metadata": {
    "collapsed": true
   },
   "outputs": [],
   "source": [
    "def dJ(theta, X_b, y):\n",
    "    # res = np.empty(len(theta))\n",
    "    # res[0] = np.sum(X_b.dot(theta) - y)\n",
    "    # for i in range(1, len(theta)):\n",
    "    #     res[i] = (X_b.dot(theta) - y).dot(X_b[:, i])\n",
    "    # return res * 2 / len(X_b)\n",
    "    #使用向量化计算\n",
    "    return X_b.T.dot(X_b.dot(theta) - y) *2.  /len(X_b)"
   ]
  },
  {
   "cell_type": "code",
   "execution_count": 6,
   "metadata": {
    "collapsed": true
   },
   "outputs": [],
   "source": [
    "def gradient_descent(X_b,y,initial_theta,eta,n_iters = 1e4,epsilon = 1e-8):\n",
    "\n",
    "\ttheta = initial_theta\n",
    "\t#梯度下降当前的次数\n",
    "\ti_iter = 0 \n",
    "\t#由于theta是矩阵,注释掉\n",
    "\t#theta_history.append(initial_theta)\n",
    "\n",
    "\twhile i_iter < n_iters:\n",
    "\t\tgradient = dJ(theta,X_b,y)\n",
    "\t\tlast_theta = theta\n",
    "\t\ttheta = theta - eta * gradient\n",
    "\t\t#由于theta是矩阵,注释掉\n",
    "\t\t#theta_history.append(theta)\n",
    "\n",
    "\t\tif(abs(J(theta,X_b,y)- J(last_theta,X_b,y)) < epsilon):\n",
    "\t\t\tbreak\n",
    "\n",
    "\t\ti_iter += 1\n",
    "\n",
    "\treturn theta"
   ]
  },
  {
   "cell_type": "code",
   "execution_count": 7,
   "metadata": {},
   "outputs": [
    {
     "name": "stdout",
     "output_type": "stream",
     "text": [
      "CPU times: user 290 ms, sys: 25 ms, total: 315 ms\n",
      "Wall time: 232 ms\n"
     ]
    }
   ],
   "source": [
    "%%time\n",
    "X_b = np.hstack([np.ones((len(X),1)),x.reshape(-1,1)])\n",
    "initial_theta = np.zeros(X_b.shape[1])\n",
    "eta = 0.1\n",
    "theta = gradient_descent(X_b,y,initial_theta,eta)"
   ]
  },
  {
   "cell_type": "code",
   "execution_count": 8,
   "metadata": {},
   "outputs": [
    {
     "data": {
      "text/plain": [
       "array([ 2.98805968,  3.99072563])"
      ]
     },
     "execution_count": 8,
     "metadata": {},
     "output_type": "execute_result"
    }
   ],
   "source": [
    "theta"
   ]
  },
  {
   "cell_type": "markdown",
   "metadata": {},
   "source": [
    "## 随机梯度下降法"
   ]
  },
  {
   "cell_type": "code",
   "execution_count": 9,
   "metadata": {
    "collapsed": true
   },
   "outputs": [],
   "source": [
    "def dJ_sgd(theta,X_b_i,y_i):\n",
    "    return X_b_i.T.dot(X_b_i.dot(theta) - y_i) * 2."
   ]
  },
  {
   "cell_type": "code",
   "execution_count": 10,
   "metadata": {
    "collapsed": true
   },
   "outputs": [],
   "source": [
    "def sgd(X_b,y,initial_theta,n_iters):\n",
    "\n",
    "\t#绘制学习率,使用模拟退火\n",
    "\tt0 = 5\n",
    "\tt1 = 50\n",
    "\n",
    "\tdef learning_rate(t):\n",
    "\t\treturn t0 / (t + t1)\n",
    "\n",
    "\ttheta = initial_theta\n",
    "\tfor cur_iter in range (n_iters):\n",
    "\t\t# 随机选择一个样本\n",
    "\t\trand_i = np.random.randint(len(X_b))\n",
    "\t\t# 传入刚才选择的随机样本\n",
    "\t\tgradient = dJ_sgd(theta,X_b[rand_i],y[rand_i])\n",
    "\t\ttheta = theta - learning_rate(cur_iter) * gradient\n",
    "        #梯度差并不是递减,所以没有abs\n",
    "\n",
    "\treturn theta\n"
   ]
  },
  {
   "cell_type": "code",
   "execution_count": 11,
   "metadata": {},
   "outputs": [
    {
     "name": "stdout",
     "output_type": "stream",
     "text": [
      "CPU times: user 286 ms, sys: 5.59 ms, total: 292 ms\n",
      "Wall time: 300 ms\n"
     ]
    }
   ],
   "source": [
    "%%time\n",
    "X_b = np.hstack([np.ones((len(X),1)),x.reshape(-1,1)])\n",
    "#初始化theta,为X_b的特征数\n",
    "initial_theta = np.zeros(X_b.shape[1])\n",
    "eta = 0.1\n",
    "theta = sgd(X_b,y,initial_theta,n_iters = len(X_b)//3)"
   ]
  },
  {
   "cell_type": "code",
   "execution_count": 12,
   "metadata": {},
   "outputs": [
    {
     "data": {
      "text/plain": [
       "array([ 2.95841912,  4.00120154])"
      ]
     },
     "execution_count": 12,
     "metadata": {},
     "output_type": "execute_result"
    }
   ],
   "source": [
    "theta"
   ]
  },
  {
   "cell_type": "code",
   "execution_count": null,
   "metadata": {
    "collapsed": true
   },
   "outputs": [],
   "source": []
  },
  {
   "cell_type": "code",
   "execution_count": null,
   "metadata": {
    "collapsed": true
   },
   "outputs": [],
   "source": []
  }
 ],
 "metadata": {
  "kernelspec": {
   "display_name": "Python 3",
   "language": "python",
   "name": "python3"
  },
  "language_info": {
   "codemirror_mode": {
    "name": "ipython",
    "version": 3
   },
   "file_extension": ".py",
   "mimetype": "text/x-python",
   "name": "python",
   "nbconvert_exporter": "python",
   "pygments_lexer": "ipython3",
   "version": "3.6.3"
  }
 },
 "nbformat": 4,
 "nbformat_minor": 2
}
