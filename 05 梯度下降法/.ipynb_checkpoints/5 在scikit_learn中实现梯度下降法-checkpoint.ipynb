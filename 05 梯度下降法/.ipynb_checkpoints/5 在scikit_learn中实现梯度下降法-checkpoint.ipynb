{
 "cells": [
  {
   "cell_type": "code",
   "execution_count": 1,
   "metadata": {
    "collapsed": true
   },
   "outputs": [],
   "source": [
    "import numpy as np"
   ]
  },
  {
   "cell_type": "code",
   "execution_count": 8,
   "metadata": {},
   "outputs": [],
   "source": [
    "# n_iters = 5 将所有的样本至少看五遍\n",
    "def fit_sgd(self,X_train,y_train,n_iters = 5,t0 = 5,t1 = 50):\n",
    "        \"\"\"根据训练数据集X_train, y_train, 使用梯度下降法训练Linear Regression模型\"\"\"\n",
    "        assert X_train.shape[0] == y_train.shape[0], \\\n",
    "            \"the size of X_train must be equal to the size of y_train\"\n",
    "        assert n_iters >= 1    \n",
    "        \n",
    "        def dJ_sgd(theta,X_b,y_i):\n",
    "            return X_b_i * (X_b_i.dot(theta) - y_i) * 2.\n",
    "        \n",
    "        #下面不写t0 t1 应该也不会报错哇?\n",
    "        def sgd(X_b,y,initial_theta,n_iters,t0 = 5, t1 = 50):\n",
    "            \n",
    "            def learning_rate(t):\n",
    "                return t0/(t + t1)\n",
    "            \n",
    "            theta = initial_theta\n",
    "            # 为什么需要m? 接下去计算index\n",
    "            m = len(X_b)\n",
    "        \n",
    "            # 在指定次数中循环,每次循环,都随机的把所有样本看一遍.\n",
    "            # 这样做,是防止,直接取随机数,有些样本没有取到.\n",
    "            for cur_iter in range(n_iters):\n",
    "                indexes = np.random.permutation(m)\n",
    "                #打乱了X_b,y的样本排列顺序,保证所有的样本都能够取到.\n",
    "                X_b_new = X_b[indexes]\n",
    "                y_new = y[indexes]\n",
    "                #考虑每一个样本的梯度.\n",
    "                for i in range(m):\n",
    "                    gradient = dJ_sgd(theta,X_b_new[i],y_new[i])\n",
    "                    #注意学习率,考虑\n",
    "                    theta = theta - learning_rate(cur_iter *m + i ) * gradient\n",
    "                    \n",
    "            return theta\n",
    "                "
   ]
  },
  {
   "cell_type": "code",
   "execution_count": null,
   "metadata": {
    "collapsed": true
   },
   "outputs": [],
   "source": []
  },
  {
   "cell_type": "code",
   "execution_count": null,
   "metadata": {
    "collapsed": true
   },
   "outputs": [],
   "source": []
  },
  {
   "cell_type": "code",
   "execution_count": null,
   "metadata": {
    "collapsed": true
   },
   "outputs": [],
   "source": []
  },
  {
   "cell_type": "code",
   "execution_count": null,
   "metadata": {
    "collapsed": true
   },
   "outputs": [],
   "source": [
    "def dJ_sgd(theta, X_b_i, y_i):\n",
    "            return X_b_i * (X_b_i.dot(theta) - y_i) * 2.\n",
    "\n",
    "        def sgd(X_b, y, initial_theta, n_iters, t0=5, t1=50):\n",
    "\n",
    "            def learning_rate(t):\n",
    "                return t0 / (t + t1)\n",
    "\n",
    "            theta = initial_theta\n",
    "            m = len(X_b)\n",
    "\n",
    "            for cur_iter in range(n_iters):\n",
    "                indexes = np.random.permutation(m)\n",
    "                X_b_new = X_b[indexes]\n",
    "                y_new = y[indexes]\n",
    "                for i in range(m):\n",
    "                    gradient = dJ_sgd(theta, X_b_new[i], y_new[i])\n",
    "                    theta = theta - learning_rate(cur_iter * m + i) * gradient\n",
    "\n",
    "            return theta"
   ]
  },
  {
   "cell_type": "code",
   "execution_count": null,
   "metadata": {
    "collapsed": true
   },
   "outputs": [],
   "source": []
  },
  {
   "cell_type": "code",
   "execution_count": 5,
   "metadata": {},
   "outputs": [
    {
     "data": {
      "text/plain": [
       "array([36, 66, 68,  7, 16, 67, 94, 37, 80, 24, 40, 91, 23, 32, 88, 44, 87,\n",
       "       19, 97, 99, 58, 51, 74, 81, 71, 13, 41,  6, 50, 21, 30, 26, 46, 47,\n",
       "       98,  3, 76, 70, 61, 56, 57, 78, 93, 64, 27, 52, 95, 49, 96, 10, 18,\n",
       "       54, 63, 69, 35, 11, 62, 43, 22, 65, 34,  1, 90,  8,  9, 82, 77,  2,\n",
       "       31, 72, 20, 55, 29, 38, 53,  0, 92, 39, 83, 48, 45, 25,  4, 73, 12,\n",
       "       75, 79, 85, 14, 86, 33, 17, 28,  5, 15, 42, 60, 84, 89, 59])"
      ]
     },
     "execution_count": 5,
     "metadata": {},
     "output_type": "execute_result"
    }
   ],
   "source": [
    "np.random.permutation(100)"
   ]
  },
  {
   "cell_type": "code",
   "execution_count": null,
   "metadata": {
    "collapsed": true
   },
   "outputs": [],
   "source": []
  }
 ],
 "metadata": {
  "kernelspec": {
   "display_name": "Python 3",
   "language": "python",
   "name": "python3"
  },
  "language_info": {
   "codemirror_mode": {
    "name": "ipython",
    "version": 3
   },
   "file_extension": ".py",
   "mimetype": "text/x-python",
   "name": "python",
   "nbconvert_exporter": "python",
   "pygments_lexer": "ipython3",
   "version": "3.6.3"
  }
 },
 "nbformat": 4,
 "nbformat_minor": 2
}
