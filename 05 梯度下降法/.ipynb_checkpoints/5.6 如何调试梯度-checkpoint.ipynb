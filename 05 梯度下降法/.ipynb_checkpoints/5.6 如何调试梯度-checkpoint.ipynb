{
 "cells": [
  {
   "attachments": {},
   "cell_type": "markdown",
   "metadata": {},
   "source": [
    "### 关于梯度的调试\n",
    "\n",
    "\n",
    "![image.png](http://upload-images.jianshu.io/upload_images/5760375-9b4bd2c6238cf6e1.png?imageMogr2/auto-orient/strip%7CimageView2/2/w/1240)\n"
   ]
  },
  {
   "cell_type": "markdown",
   "metadata": {},
   "source": [
    "求取梯度,除了通过求出导数获得,还可以通过导数的定义获得.\n",
    "\n",
    "通过导数定义获得的式子,运算速度较慢,所以用于debug"
   ]
  },
  {
   "cell_type": "code",
   "execution_count": 8,
   "metadata": {
    "collapsed": true
   },
   "outputs": [],
   "source": [
    "import numpy as np\n",
    "import matplotlib.pyplot as plt"
   ]
  },
  {
   "cell_type": "code",
   "execution_count": 9,
   "metadata": {
    "collapsed": true
   },
   "outputs": [],
   "source": [
    "np.random.seed(666)\n",
    "X = np.random.random(size = (1000,10))"
   ]
  },
  {
   "cell_type": "code",
   "execution_count": 21,
   "metadata": {
    "collapsed": true
   },
   "outputs": [],
   "source": [
    "true_theta = np.arange(1,12,dtype = 'float')"
   ]
  },
  {
   "cell_type": "code",
   "execution_count": 22,
   "metadata": {
    "collapsed": true
   },
   "outputs": [],
   "source": [
    "X_b = np.hstack([np.ones((len(X),1)),X])\n",
    "y = X_b.dot(true_theta) + np.random.normal(size = 1000)"
   ]
  },
  {
   "cell_type": "code",
   "execution_count": 24,
   "metadata": {},
   "outputs": [
    {
     "data": {
      "text/plain": [
       "(1000, 11)"
      ]
     },
     "execution_count": 24,
     "metadata": {},
     "output_type": "execute_result"
    }
   ],
   "source": [
    "X_b.shape"
   ]
  },
  {
   "cell_type": "code",
   "execution_count": 25,
   "metadata": {},
   "outputs": [
    {
     "data": {
      "text/plain": [
       "(1000,)"
      ]
     },
     "execution_count": 25,
     "metadata": {},
     "output_type": "execute_result"
    }
   ],
   "source": [
    "y.shape"
   ]
  },
  {
   "cell_type": "code",
   "execution_count": 26,
   "metadata": {
    "collapsed": true
   },
   "outputs": [],
   "source": [
    "def J(theta,X_b,y):\n",
    "\ttry:\n",
    "\t\treturn np.sum((y - X_b.dot(theta))**2) / len(X_b)\n",
    "\texcept:\n",
    "\t\treturn float('inf')"
   ]
  },
  {
   "cell_type": "code",
   "execution_count": 29,
   "metadata": {
    "collapsed": true
   },
   "outputs": [],
   "source": [
    "def dJ_math(theta,X_b,y):\n",
    "\treturn X_b.T.dot(X_b.dot(theta) - y ) *2./len(y)"
   ]
  },
  {
   "cell_type": "code",
   "execution_count": 54,
   "metadata": {
    "collapsed": true
   },
   "outputs": [],
   "source": [
    "def dJ_debug(theta,X_b,y,epsilon = 0.01):\n",
    "\t#最后结果是一个J的梯度.. 先开一个存储梯度的数组.\n",
    "\tres = np.empty(len(theta))\n",
    "\tfor i in range(len(theta)):\n",
    "\t\ttheta_1 = theta.copy()\n",
    "\t\ttheta_1[i] += epsilon\n",
    "\t\ttheta_2  = theta.copy()\n",
    "\t\ttheta_2[i] -= epsilon\n",
    "\t\tres[i] = (J(theta_1,X_b,y) - J(theta_2,X_b,y))/(2*epsilon)\n",
    "\treturn res"
   ]
  },
  {
   "cell_type": "code",
   "execution_count": 55,
   "metadata": {
    "collapsed": true
   },
   "outputs": [],
   "source": [
    "def gradient_descent(dJ,X_b,y,initial_theta,eta,n_iters = 1e4,epsilon = 1e-8):\n",
    "\n",
    "\ttheta = initial_theta\n",
    "\t#梯度下降当前的次数\n",
    "\ti_iter = 0 \n",
    "\t#由于theta是矩阵,注释掉\n",
    "\t#theta_history.append(initial_theta)\n",
    "\n",
    "\twhile i_iter < n_iters:\n",
    "\t\tgradient = dJ(theta,X_b,y)\n",
    "\t\tlast_theta = theta\n",
    "\t\ttheta = theta - eta * gradient\n",
    "\t\t#由于theta是矩阵,注释掉\n",
    "\t\t#theta_history.append(theta)\n",
    "\n",
    "\t\tif(abs(J(theta,X_b,y)- J(last_theta,X_b,y)) < epsilon):\n",
    "\t\t\tbreak\n",
    "\n",
    "\t\ti_iter += 1\n",
    "\n",
    "\treturn theta"
   ]
  },
  {
   "cell_type": "code",
   "execution_count": 56,
   "metadata": {},
   "outputs": [
    {
     "name": "stdout",
     "output_type": "stream",
     "text": [
      "CPU times: user 1.47 s, sys: 17.7 ms, total: 1.49 s\n",
      "Wall time: 768 ms\n"
     ]
    },
    {
     "data": {
      "text/plain": [
       "array([  1.10626998,   1.84238151,   3.01548087,   4.03193423,\n",
       "         4.97307523,   6.09961984,   7.0143187 ,   7.92700623,\n",
       "         9.03024753,  10.02123504,  10.96469276])"
      ]
     },
     "execution_count": 56,
     "metadata": {},
     "output_type": "execute_result"
    }
   ],
   "source": [
    "X_b = np.hstack([np.ones((len(X),1)),X])\n",
    "initial_theta = np.zeros(X_b.shape[1])\n",
    "eta = 0.01\n",
    "\n",
    "% time gradient_descent(dJ_math,X_b,y,initial_theta,eta)"
   ]
  },
  {
   "cell_type": "code",
   "execution_count": 57,
   "metadata": {},
   "outputs": [
    {
     "name": "stdout",
     "output_type": "stream",
     "text": [
      "CPU times: user 10 s, sys: 152 ms, total: 10.2 s\n",
      "Wall time: 5.28 s\n"
     ]
    },
    {
     "data": {
      "text/plain": [
       "array([  1.10626998,   1.84238151,   3.01548087,   4.03193423,\n",
       "         4.97307523,   6.09961984,   7.0143187 ,   7.92700623,\n",
       "         9.03024753,  10.02123504,  10.96469276])"
      ]
     },
     "execution_count": 57,
     "metadata": {},
     "output_type": "execute_result"
    }
   ],
   "source": [
    "% time gradient_descent(dJ_debug,X_b,y,initial_theta,eta)"
   ]
  },
  {
   "cell_type": "code",
   "execution_count": null,
   "metadata": {
    "collapsed": true
   },
   "outputs": [],
   "source": []
  },
  {
   "cell_type": "code",
   "execution_count": null,
   "metadata": {
    "collapsed": true
   },
   "outputs": [],
   "source": []
  }
 ],
 "metadata": {
  "kernelspec": {
   "display_name": "Python 3",
   "language": "python",
   "name": "python3"
  },
  "language_info": {
   "codemirror_mode": {
    "name": "ipython",
    "version": 3
   },
   "file_extension": ".py",
   "mimetype": "text/x-python",
   "name": "python",
   "nbconvert_exporter": "python",
   "pygments_lexer": "ipython3",
   "version": "3.6.3"
  }
 },
 "nbformat": 4,
 "nbformat_minor": 2
}
