{
 "cells": [
  {
   "cell_type": "code",
   "execution_count": 1,
   "metadata": {
    "collapsed": true
   },
   "outputs": [],
   "source": [
    "import numpy as np\n",
    "import matplotlib.pyplot as plt"
   ]
  },
  {
   "cell_type": "markdown",
   "metadata": {
    "collapsed": true
   },
   "source": [
    "## 先看批量梯度下降法"
   ]
  },
  {
   "cell_type": "code",
   "execution_count": 5,
   "metadata": {
    "collapsed": true
   },
   "outputs": [],
   "source": [
    "m = 100000\n",
    "\n",
    "x = np.random.normal(size = m)\n",
    "X = x.reshape(-1,1)\n",
    "y = 4.*x + 3.+ np.random.normal(0,3,size = m)"
   ]
  },
  {
   "cell_type": "code",
   "execution_count": 6,
   "metadata": {
    "collapsed": true
   },
   "outputs": [],
   "source": [
    "def J(theta,X_b,y):\n",
    "    try:\n",
    "        return np.sum((y-X_b.dot(theta))**2)/len(X_b)\n",
    "    #使用try except 防止损失函数太大\n",
    "    except:\n",
    "        return float('inf')\n",
    "    "
   ]
  },
  {
   "cell_type": "code",
   "execution_count": 7,
   "metadata": {
    "collapsed": true
   },
   "outputs": [],
   "source": [
    "def dJ(theta, X_b, y):\n",
    "    # res = np.empty(len(theta))\n",
    "    # res[0] = np.sum(X_b.dot(theta) - y)\n",
    "    # for i in range(1, len(theta)):\n",
    "    #     res[i] = (X_b.dot(theta) - y).dot(X_b[:, i])\n",
    "    # return res * 2 / len(X_b)\n",
    "    #使用向量化计算\n",
    "    return X_b.T.dot(X_b.dot(theta) - y) *2.  /len(X_b)"
   ]
  },
  {
   "cell_type": "code",
   "execution_count": 8,
   "metadata": {
    "collapsed": true
   },
   "outputs": [],
   "source": [
    "def gradient_descent(X_b,y,initial_theta,eta,n_iters = 1e4,epsilon = 1e-8):\n",
    "\n",
    "\ttheta = initial_theta\n",
    "\t#梯度下降当前的次数\n",
    "\ti_iter = 0 \n",
    "\t#由于theta是矩阵,注释掉\n",
    "\t#theta_history.append(initial_theta)\n",
    "\n",
    "\twhile i_iter < n_iters:\n",
    "\t\tgradient = dJ(theta,X_b,y)\n",
    "\t\tlast_theta = theta\n",
    "\t\ttheta = theta - eta * gradient\n",
    "\t\t#由于theta是矩阵,注释掉\n",
    "\t\t#theta_history.append(theta)\n",
    "\n",
    "\t\tif(abs(J(theta,X_b,y)- J(last_theta,X_b,y)) < epsilon):\n",
    "\t\t\tbreak\n",
    "\n",
    "\t\ti_iter += 1\n",
    "\n",
    "\treturn theta"
   ]
  },
  {
   "cell_type": "code",
   "execution_count": 11,
   "metadata": {},
   "outputs": [
    {
     "name": "stdout",
     "output_type": "stream",
     "text": [
      "CPU times: user 218 ms, sys: 7.16 ms, total: 225 ms\n",
      "Wall time: 128 ms\n"
     ]
    }
   ],
   "source": [
    "%%time\n",
    "X_b = np.hstack([np.ones((len(X),1)),x.reshape(-1,1)])\n",
    "initial_theta = np.zeros(X_b.shape[1])\n",
    "eta = 0.1\n",
    "theta = gradient_descent(X_b,y,initial_theta,eta)"
   ]
  },
  {
   "cell_type": "code",
   "execution_count": 12,
   "metadata": {},
   "outputs": [
    {
     "data": {
      "text/plain": [
       "array([ 3.00513832,  4.00680298])"
      ]
     },
     "execution_count": 12,
     "metadata": {},
     "output_type": "execute_result"
    }
   ],
   "source": [
    "theta"
   ]
  },
  {
   "cell_type": "markdown",
   "metadata": {},
   "source": [
    "## 随机梯度下降法"
   ]
  },
  {
   "cell_type": "code",
   "execution_count": 49,
   "metadata": {},
   "outputs": [],
   "source": [
    "def dJ_sgd(theta,X_b_i,y_i):\n",
    "    return X_b_i.T.dot(X_b_i.dot(theta) - y_i) * 2."
   ]
  },
  {
   "cell_type": "code",
   "execution_count": 50,
   "metadata": {
    "collapsed": true
   },
   "outputs": [],
   "source": [
    "def sgd(X_b,y,initial_theta,n_iters):\n",
    "\n",
    "\t#绘制学习率.\n",
    "\tt0 = 5\n",
    "\tt1 = 50\n",
    "\n",
    "\tdef learning_rate(t):\n",
    "\t\treturn t0 / (t + t1)\n",
    "\n",
    "\ttheta = initial_theta\n",
    "\tfor cur_iter in range (n_iters):\n",
    "\t\t# 随机选择一个样本\n",
    "\t\trand_i = np.random.randint(len(X_b))\n",
    "\t\t# 传入刚才选择的随机样本\n",
    "\t\tgradient = dJ_sgd(theta,X_b[rand_i],y[rand_i])\n",
    "\t\ttheta = theta - learning_rate(cur_iter) * gradient\n",
    "\n",
    "\treturn theta\n"
   ]
  },
  {
   "cell_type": "code",
   "execution_count": 51,
   "metadata": {},
   "outputs": [
    {
     "name": "stdout",
     "output_type": "stream",
     "text": [
      "CPU times: user 331 ms, sys: 6.86 ms, total: 338 ms\n",
      "Wall time: 344 ms\n"
     ]
    }
   ],
   "source": [
    "%%time\n",
    "X_b = np.hstack([np.ones((len(X),1)),x.reshape(-1,1)])\n",
    "initial_theta = np.zeros(X_b.shape[1])\n",
    "eta = 0.1\n",
    "theta = sgd(X_b,y,initial_theta,n_iters = len(X_b)//3)"
   ]
  },
  {
   "cell_type": "code",
   "execution_count": 52,
   "metadata": {},
   "outputs": [
    {
     "data": {
      "text/plain": [
       "array([ 3.04514002,  4.00262132])"
      ]
     },
     "execution_count": 52,
     "metadata": {},
     "output_type": "execute_result"
    }
   ],
   "source": [
    "theta"
   ]
  },
  {
   "cell_type": "code",
   "execution_count": null,
   "metadata": {
    "collapsed": true
   },
   "outputs": [],
   "source": []
  },
  {
   "cell_type": "code",
   "execution_count": null,
   "metadata": {
    "collapsed": true
   },
   "outputs": [],
   "source": []
  }
 ],
 "metadata": {
  "kernelspec": {
   "display_name": "Python 3",
   "language": "python",
   "name": "python3"
  },
  "language_info": {
   "codemirror_mode": {
    "name": "ipython",
    "version": 3
   },
   "file_extension": ".py",
   "mimetype": "text/x-python",
   "name": "python",
   "nbconvert_exporter": "python",
   "pygments_lexer": "ipython3",
   "version": "3.6.3"
  }
 },
 "nbformat": 4,
 "nbformat_minor": 2
}
